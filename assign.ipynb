{
 "cells": [
  {
   "cell_type": "markdown",
   "id": "79eeb347-60d4-4c57-9dc6-f1b1d03302b9",
   "metadata": {},
   "source": [
    "# Qn 1"
   ]
  },
  {
   "cell_type": "markdown",
   "id": "92d252ae-d8d0-4269-8e8a-e0f32942696f",
   "metadata": {},
   "source": [
    "\"\"\" Multithreading is a process of running multiple thread simultaneously within a single process\n",
    "It is used to improve the performance of program\n",
    "Threading module is used to handle thread in python\"\"\""
   ]
  },
  {
   "cell_type": "markdown",
   "id": "d1adb5ab-cf50-4265-ab5d-a0b86472bff4",
   "metadata": {},
   "source": [
    "# Qn 2"
   ]
  },
  {
   "cell_type": "code",
   "execution_count": null,
   "id": "0df4c8dd-6377-43ad-b3c7-aee9159a7aff",
   "metadata": {},
   "outputs": [],
   "source": [
    "\"\"\" Activecount - is used to return the number of active threads in the current threads group.The value returned is only estimated because the number of threads may change dynamically while this method traverses internal data structures \"\"\"\n",
    "\"\"\" Currentthread -is used to return the current thread object which corresponds to the caller thread of the control \"\"\"\n",
    "'\"\" enumerate - which allow to keep track of the number of iterations in a loop\"'\""
   ]
  },
  {
   "cell_type": "markdown",
   "id": "8c78619e-971d-4072-a31b-9c2048753ecc",
   "metadata": {},
   "source": [
    "# Qn 3"
   ]
  },
  {
   "cell_type": "code",
   "execution_count": null,
   "id": "0feb6838-141b-4cd6-827f-c3c583e4e48d",
   "metadata": {},
   "outputs": [],
   "source": [
    "\"\"\" Run() method executes any target function belonging to a given thread object that is now active .It normally execute in the background after the start ()\n",
    "start() method start the thread by calling the run method.\n",
    "join() wait for the threads to termite.\n",
    "isAlive() method check whether the thread is still executing.\"\"\""
   ]
  },
  {
   "cell_type": "markdown",
   "id": "b8a65108-e4c9-4aa0-90e1-0ec4e7eca2c4",
   "metadata": {},
   "source": [
    "# Qn 4"
   ]
  },
  {
   "cell_type": "code",
   "execution_count": null,
   "id": "0918b5aa-6eb6-4a8a-867e-fba5def68ecf",
   "metadata": {},
   "outputs": [],
   "source": []
  },
  {
   "cell_type": "markdown",
   "id": "841458b7-2252-45ba-9aca-78f38f57f4c0",
   "metadata": {},
   "source": [
    "# Qn 5"
   ]
  },
  {
   "cell_type": "code",
   "execution_count": null,
   "id": "7b1e41f4-3bca-43ab-a7a9-607e29a74bf5",
   "metadata": {},
   "outputs": [],
   "source": [
    "\"\"\" Advantages\n",
    "        enhanced performance by decresed development time\n",
    "        simplified and streamlined program coding\n",
    "        improvised GUI responsiveness \n",
    "        decresed cost of maintenance\n",
    "        better use of cpu\n",
    "        \n",
    "   Disadvantages\n",
    "       complex debugging and testing processes\n",
    "       overhead switching of context\n",
    "       increased potential for deadlock occurance\n",
    "       increased difficulty level in writing a program  \"\"\""
   ]
  },
  {
   "cell_type": "markdown",
   "id": "2998fb76-04df-4c54-bec3-88efada23108",
   "metadata": {},
   "source": [
    "# Qn 6"
   ]
  },
  {
   "cell_type": "code",
   "execution_count": null,
   "id": "dcdf5add-01de-45dc-87af-902c5f009fc0",
   "metadata": {},
   "outputs": [],
   "source": [
    "\"\"\" A race condition occurs when two threads uses same variables at a given time.Deadlock exists when two threads seeks one lock simultaneously .This situation will stop both threads from processing or exzecuting the function\"\"\"          "
   ]
  }
 ],
 "metadata": {
  "kernelspec": {
   "display_name": "Python 3 (ipykernel)",
   "language": "python",
   "name": "python3"
  },
  "language_info": {
   "codemirror_mode": {
    "name": "ipython",
    "version": 3
   },
   "file_extension": ".py",
   "mimetype": "text/x-python",
   "name": "python",
   "nbconvert_exporter": "python",
   "pygments_lexer": "ipython3",
   "version": "3.10.8"
  }
 },
 "nbformat": 4,
 "nbformat_minor": 5
}
